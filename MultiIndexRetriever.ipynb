{
 "cells": [
  {
   "cell_type": "markdown",
   "metadata": {},
   "source": [
    "### MultiIndexRetriever - Retrieve Full Documents using Documents Summary"
   ]
  },
  {
   "cell_type": "code",
   "execution_count": 1,
   "metadata": {},
   "outputs": [],
   "source": [
    "from langchain_community.document_loaders import TextLoader , DirectoryLoader\n",
    "from langchain.text_splitter import RecursiveCharacterTextSplitter\n",
    "\n",
    "loader = DirectoryLoader('./source', glob=\"./*.txt\", loader_cls=TextLoader)\n",
    "docs = loader.load()"
   ]
  },
  {
   "cell_type": "code",
   "execution_count": 3,
   "metadata": {},
   "outputs": [
    {
     "data": {
      "text/plain": [
       "[Document(page_content='McIlroy aiming for Madrid title\\n\\nNorthern Ireland man James McIlroy is confident he can win his first major title at this weekend\\'s Spar European Indoor Championships in Madrid.\\n\\nThe 28-year-old has been in great form in recent weeks and will go in as one of the 800 metres favourites. \"I believe after my wins abroad and in our trial race in Sheffield, I can run my race from the front, back or middle,\" said McIlroy. New coach Tony Lester has helped get McIlroy\\'s career back on track. The 28-year-old 800 metres runner has not always matched his promise with performances but believes his decision to change coaches and move base will bring the rewards. McIlroy now lives in Windsor and feels his career has been transformed by the no-nonsense leadership style of former Army sergeant Lester. Lester is better known for his work with 400m runners Roger Black and Mark Richardson in the past but under his guidance McIlroy has secured five wins this indoor season.\\n\\nMcIlroy now claims he is in his best shape since finishing fourth for Ireland at the outdoor European Championships in 1998. \"That was my last decent year,\" said McIlroy, who temporarily retired last August before returning to the sport under Lester\\'s shrewd guidance. \"Before, every race was like trying to climb Mount Everest and I now know you can\\'t do it on your own. \"Trying to succeed saw me sometimes standing half-dead and terrified on the starting line, which became a bit too much.\" McIlroy, who was compared to the likes of Sebastian Coe, Steve Cram and Steve Ovett in his younger days, is now competing without the benefit of National Lottery funding. That situation could change if he maintains his current form and repeats the world-class times he produced in the 800m and 1000m at major races in Erfurt and Stuttgart earlier this season. Russian Dmitriy Bogdanov won at the same Madrid venue last week and then claimed the European Championship race would be between himself, Dutchman Arnoud Okken and Antonio Reina of Spain but McIlroy is unfazed.\\n\\nHe admitted: \"He looked quite good in his win and fair enough everyone has the right to their own opinion. \"I never write myself off and let\\'s face it, I haven\\'t or looked like being beaten this season.\" And McIlroy, whose time of one minute 46.68seconds in Erfurt elevated him to sixth place on the UK All-Time list, is also already looking beyond Madrid. He said: \"I\\'ve been much more focused this year about my career and having such a good team around me has been very important. \"Ultimately of course, this weekend is a means to an end and that is getting prepared for the summer\\'s world championships. \"That ambition has meant that I\\'ve had only two nights out since last August. The rest of my time has seen me just concentrating on rebuilding my career.\"', metadata={'source': 'source/sports.txt'}),\n",
       " Document(page_content='Industrial revival hope for Japan\\n\\nJapanese industry is growing faster than expected, boosting hopes that the country\\'s retreat back into recession is over.\\n\\nIndustrial output rose 2.1% - adjusted for the time of year - in January from a month earlier. At the same time, retail sales picked up faster than at any time since 1997. The news sent Tokyo shares to an eight-month high, as investors hoped for a recovery from the three quarters of contraction seen from April 2004 on. The Nikkei 225 index ended the day up 0.7% at 11,740.60 points, with the yen strengthening 0.7% against the dollar to 104.53 yen. Weaker exports, normally the engine for Japan\\'s economy in the face of weak domestic demand, had helped trigger a 0.1% contraction in the final three months of last year after two previous quarters of shrinking GDP. Only an exceptionally strong performance in the early months of 2004 kept the year as a whole from showing a decline. The output figures brought a cautiously optimistic response from economic officials. \"Overall I see a low risk of the economy falling into serious recession,\" said Bank of Japan chief Toshihiko Fukui, despite warning that other indicators - such as the growth numbers - had been worrying.\\n\\nWithin the overall industrial output figure, there were signs of a pullback from the export slowdown. Among the best-performing sectors were key overseas sales areas such as cars, chemicals and electronic goods. With US growth doing better than expected the picture for exports in early 2005 could also be one of sustained demand. Electronics were also one of the keys to the improved domestic market, with products such as flat-screen TVs in high demand during January.', metadata={'source': 'source/japan.txt'})]"
      ]
     },
     "execution_count": 3,
     "metadata": {},
     "output_type": "execute_result"
    }
   ],
   "source": [
    "docs"
   ]
  },
  {
   "cell_type": "code",
   "execution_count": 16,
   "metadata": {},
   "outputs": [],
   "source": [
    "import uuid\n",
    "\n",
    "from langchain_core.documents import Document\n",
    "from langchain_core.output_parsers import StrOutputParser\n",
    "from langchain_core.prompts import ChatPromptTemplate\n",
    "\n",
    "summ_prompt = ChatPromptTemplate.from_template(\"Summarize the following document in concise and meaningful manner:\\n {doc}\")\n",
    "from utils.llm import LLM\n",
    "llm = LLM().get_llama_together()"
   ]
  },
  {
   "cell_type": "code",
   "execution_count": 17,
   "metadata": {},
   "outputs": [],
   "source": [
    "chain = (\n",
    "    {\"doc\": lambda x: x.page_content}\n",
    "    | summ_prompt\n",
    "    | llm\n",
    "    | StrOutputParser()\n",
    ")\n",
    "\n",
    "summaries = chain.batch(docs)"
   ]
  },
  {
   "cell_type": "code",
   "execution_count": 18,
   "metadata": {},
   "outputs": [
    {
     "data": {
      "text/plain": [
       "'\\n\\nIn summary, James McIlroy, a 28-year-old Northern Irish runner, is aiming to win his first major title at the Spar European Indoor Championships in Madrid. He has been in good form recently and has a new coach, Tony Lester, who has helped him transform his career. McIlroy is confident he can run his race from the front, back or middle and is focused on his ambition of competing at the world championships this summer.'"
      ]
     },
     "execution_count": 18,
     "metadata": {},
     "output_type": "execute_result"
    }
   ],
   "source": [
    "summaries[0]"
   ]
  },
  {
   "cell_type": "code",
   "execution_count": 19,
   "metadata": {},
   "outputs": [
    {
     "data": {
      "text/plain": [
       "\"\\n\\nThe news of the improved industrial output and retail sales was welcomed by investors, who had been worried about the economy's ability to shake off the effects of the global slowdown. The Nikkei 225 index had fallen 10% in the past three months, as concerns about the economy's health had grown. The improved data will help to ease those fears, and could also help to boost the economy in the coming months.\\n\\nIn conclusion, Japan's industrial output and retail sales have shown signs of improvement, boosting hopes for the country's economic revival. The news has been welcomed by investors, who had been worried about the economy's ability to shake off the effects of the global slowdown. The improved data could help to ease those fears and boost the economy in the coming months.\""
      ]
     },
     "execution_count": 19,
     "metadata": {},
     "output_type": "execute_result"
    }
   ],
   "source": [
    "summaries[1]"
   ]
  },
  {
   "cell_type": "code",
   "execution_count": 20,
   "metadata": {},
   "outputs": [
    {
     "name": "stderr",
     "output_type": "stream",
     "text": [
      "/Users/aritra.sen/Aritra/coding/my_llm_app/.venv/lib/python3.10/site-packages/transformers/utils/generic.py:311: UserWarning: torch.utils._pytree._register_pytree_node is deprecated. Please use torch.utils._pytree.register_pytree_node instead.\n",
      "  torch.utils._pytree._register_pytree_node(\n"
     ]
    }
   ],
   "source": [
    "from langchain.embeddings import HuggingFaceBgeEmbeddings\n",
    "\n",
    "\n",
    "model_name = \"BAAI/bge-base-en-v1.5\"\n",
    "model_kwargs = {'device': 'cpu'}\n",
    "encode_kwargs = {'normalize_embeddings': True} # set True to compute cosine similarity\n",
    "embeddings = HuggingFaceBgeEmbeddings(\n",
    "    model_name=model_name,\n",
    "    model_kwargs=model_kwargs,\n",
    "    encode_kwargs=encode_kwargs,\n",
    ")"
   ]
  },
  {
   "cell_type": "code",
   "execution_count": 21,
   "metadata": {},
   "outputs": [],
   "source": [
    "from langchain.storage import InMemoryByteStore\n",
    "from langchain_community.vectorstores import Chroma\n",
    "from langchain.retrievers.multi_vector import MultiVectorRetriever\n",
    "\n",
    "# The vectorstore to use to index the child chunks\n",
    "vectorstore = Chroma(collection_name=\"summaries\",\n",
    "                     embedding_function=embeddings)\n",
    "\n",
    "# The storage layer for the parent documents\n",
    "store = InMemoryByteStore()\n",
    "id_key = \"doc_id\"\n",
    "\n",
    "# The retriever\n",
    "retriever = MultiVectorRetriever(\n",
    "    vectorstore=vectorstore,\n",
    "    byte_store=store,\n",
    "    id_key=id_key,\n",
    ")"
   ]
  },
  {
   "cell_type": "code",
   "execution_count": 22,
   "metadata": {},
   "outputs": [],
   "source": [
    "# creating doc ids which is to be stored as metadata in vectore store along with summaries\n",
    "doc_ids = [str(uuid.uuid4()) for _ in docs]\n",
    "\n",
    "# Docs linked to summaries\n",
    "summary_docs = [\n",
    "    Document(page_content=s, metadata={id_key: doc_ids[i]})\n",
    "    for i, s in enumerate(summaries)\n",
    "]\n",
    "\n",
    "# Add\n",
    "retriever.vectorstore.add_documents(summary_docs)\n",
    "retriever.docstore.mset(list(zip(doc_ids, docs)))"
   ]
  },
  {
   "cell_type": "code",
   "execution_count": 24,
   "metadata": {},
   "outputs": [
    {
     "data": {
      "text/plain": [
       "[Document(page_content=\"\\n\\nThe news of the improved industrial output and retail sales was welcomed by investors, who had been worried about the economy's ability to shake off the effects of the global slowdown. The Nikkei 225 index had fallen 10% in the past three months, as concerns about the economy's health had grown. The improved data will help to ease those fears, and could also help to boost the economy in the coming months.\\n\\nIn conclusion, Japan's industrial output and retail sales have shown signs of improvement, boosting hopes for the country's economic revival. The news has been welcomed by investors, who had been worried about the economy's ability to shake off the effects of the global slowdown. The improved data could help to ease those fears and boost the economy in the coming months.\", metadata={'doc_id': '4d063b36-15d2-44f9-8537-c13a70544f82'})]"
      ]
     },
     "execution_count": 24,
     "metadata": {},
     "output_type": "execute_result"
    }
   ],
   "source": [
    "query = \"Tell me about Japan's Industrial Growth\"\n",
    "sub_docs = vectorstore.similarity_search(query,k=1)\n",
    "sub_docs"
   ]
  },
  {
   "cell_type": "code",
   "execution_count": 33,
   "metadata": {},
   "outputs": [
    {
     "data": {
      "text/plain": [
       "'4d063b36-15d2-44f9-8537-c13a70544f82'"
      ]
     },
     "execution_count": 33,
     "metadata": {},
     "output_type": "execute_result"
    }
   ],
   "source": [
    "sub_docs[0].metadata['doc_id']"
   ]
  },
  {
   "cell_type": "code",
   "execution_count": 26,
   "metadata": {},
   "outputs": [
    {
     "name": "stderr",
     "output_type": "stream",
     "text": [
      "Number of requested results 4 is greater than number of elements in index 2, updating n_results = 2\n"
     ]
    },
    {
     "name": "stdout",
     "output_type": "stream",
     "text": [
      "Industrial revival hope for Japan\n",
      "\n",
      "Japanese industry is growing faster than expected, boosting hopes that the country's retreat back into recession is over.\n",
      "\n",
      "Industrial output rose 2.1% - adjusted for the time of year - in January from a month earlier. At the same time, retail sales picked up faster than at any time since 1997. The news sent Tokyo shares to an eight-month high, as investors hoped for a recovery from the three quarters of contraction seen from April 2004 on. The Nikkei 225 index ended the day up 0.7% at 11,740.60 points, with the yen strengthening 0.7% against the dollar to 104.53 yen. Weaker exports, normally the engine for Japan's economy in the face of weak domestic demand, had helped trigger a 0.1% contraction in the final three months of last year after two previous quarters of shrinking GDP. Only an exceptionally strong performance in the early months of 2004 kept the year as a whole from showing a decline. The output figures brought a cautiously optimistic response from economic officials. \"Overall I see a low risk of the economy falling into serious recession,\" said Bank of Japan chief Toshihiko Fukui, despite warning that other indicators - such as the growth numbers - had been worrying.\n",
      "\n",
      "Within the overall industrial output figure, there were signs of a pullback from the export slowdown. Among the best-performing sectors were key overseas sales areas such as cars, chemicals and electronic goods. With US growth doing better than expected the picture for exports in early 2005 could also be one of sustained demand. Electronics were also one of the keys to the improved domestic market, with products such as flat-screen TVs in high demand during January.\n"
     ]
    }
   ],
   "source": [
    "retrieved_docs = retriever.get_relevant_documents(query,n_results=1)\n",
    "\n",
    "print(retrieved_docs[0].page_content)"
   ]
  },
  {
   "cell_type": "code",
   "execution_count": null,
   "metadata": {},
   "outputs": [],
   "source": []
  }
 ],
 "metadata": {
  "kernelspec": {
   "display_name": ".venv",
   "language": "python",
   "name": "python3"
  },
  "language_info": {
   "codemirror_mode": {
    "name": "ipython",
    "version": 3
   },
   "file_extension": ".py",
   "mimetype": "text/x-python",
   "name": "python",
   "nbconvert_exporter": "python",
   "pygments_lexer": "ipython3",
   "version": "3.10.10"
  }
 },
 "nbformat": 4,
 "nbformat_minor": 2
}
